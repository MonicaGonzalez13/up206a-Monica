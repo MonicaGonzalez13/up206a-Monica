{
 "cells": [
  {
   "cell_type": "markdown",
   "id": "0c8be137-cc95-4863-b21f-31381bb4a752",
   "metadata": {},
   "source": [
    "### Data Exploration \n",
    "\n",
    "In this lab, I imported data from CalEvironScreen 4.0 and then used a geopanda so that I was able to manipulate the data. Once I was able to work with the dats, I used different commands to get more information about my data. First, I did .head(), which shows me the first five rows of my dataframe. Next, I used .info, to give me more information about my dataframe such as index type, column type, and other such information. After that, I used .shape to know how many columns and rows my dataframe had. In order to visualize the data I had uploaded, I then used .plot() to to see what the data looked like, which in my example was a map of california. I also, used .value_counts() to see how many of each zipcodes there are, and get a count for it. Moreover, I used .sample(5) to get a five random sample of zip codes. Lastly, I query the data with filters by choosing to show my dataframe with a subset of columns. "
   ]
  },
  {
   "cell_type": "markdown",
   "id": "e64efb36-5cad-4721-889d-9b9f534dcb33",
   "metadata": {},
   "source": [
    "Here we are using geopandas so that we are able to work more easily with our data in python, this allows for spatial operations."
   ]
  },
  {
   "cell_type": "code",
   "execution_count": 2,
   "id": "6ee01cea-11a8-4a55-b029-221b0b1f0979",
   "metadata": {},
   "outputs": [],
   "source": [
    "import geopandas as gpd"
   ]
  },
  {
   "cell_type": "markdown",
   "id": "53d6b04c-005c-46f6-883b-ab0c0dd8dbd9",
   "metadata": {},
   "source": [
    "Next, we import some data. Which for me is a shapefile from CalEnviroScreen 4.0 and use the relative path to name to locate data frame I will be working with."
   ]
  },
  {
   "cell_type": "code",
   "execution_count": 4,
   "id": "b3bb82db-ea34-41af-94ab-2e0af00c01d6",
   "metadata": {},
   "outputs": [],
   "source": [
    "CESA4 = gpd.read_file('calenviroscreen40shpf2021shp.zip')"
   ]
  },
  {
   "cell_type": "markdown",
   "id": "20ea6855-00af-4f4f-899c-17fd8a404772",
   "metadata": {},
   "source": [
    "This finds the class type of the variable given as input."
   ]
  },
  {
   "cell_type": "code",
   "execution_count": 5,
   "id": "a4aa1abb-9004-44b2-8a19-825f1481c414",
   "metadata": {},
   "outputs": [
    {
     "data": {
      "text/plain": [
       "geopandas.geodataframe.GeoDataFrame"
      ]
     },
     "execution_count": 5,
     "metadata": {},
     "output_type": "execute_result"
    }
   ],
   "source": [
    "type(CESA4)"
   ]
  },
  {
   "cell_type": "markdown",
   "id": "b1ee9168-b86d-4579-98a8-2ab6355ad5ea",
   "metadata": {},
   "source": [
    "After running this operation, we are now have define CESA4 as our dataframe"
   ]
  },
  {
   "cell_type": "markdown",
   "id": "99cd2c36-2899-489f-b72c-35711f3a8814",
   "metadata": {},
   "source": [
    "This command show us the first five rows our dataframe."
   ]
  },
  {
   "cell_type": "code",
   "execution_count": 6,
   "id": "aeb83843-9526-4f00-a222-ed206fe47d0b",
   "metadata": {},
   "outputs": [
    {
     "data": {
      "text/html": [
       "<div>\n",
       "<style scoped>\n",
       "    .dataframe tbody tr th:only-of-type {\n",
       "        vertical-align: middle;\n",
       "    }\n",
       "\n",
       "    .dataframe tbody tr th {\n",
       "        vertical-align: top;\n",
       "    }\n",
       "\n",
       "    .dataframe thead th {\n",
       "        text-align: right;\n",
       "    }\n",
       "</style>\n",
       "<table border=\"1\" class=\"dataframe\">\n",
       "  <thead>\n",
       "    <tr style=\"text-align: right;\">\n",
       "      <th></th>\n",
       "      <th>Tract</th>\n",
       "      <th>ZIP</th>\n",
       "      <th>County</th>\n",
       "      <th>ApproxLoc</th>\n",
       "      <th>TotPop19</th>\n",
       "      <th>CIscore</th>\n",
       "      <th>CIscoreP</th>\n",
       "      <th>Ozone</th>\n",
       "      <th>OzoneP</th>\n",
       "      <th>PM2_5</th>\n",
       "      <th>...</th>\n",
       "      <th>White</th>\n",
       "      <th>AfricanAm</th>\n",
       "      <th>Pacific_Is</th>\n",
       "      <th>AsianAm</th>\n",
       "      <th>PacificIsl</th>\n",
       "      <th>OtherMult</th>\n",
       "      <th>Shape_Leng</th>\n",
       "      <th>Shape_Le_1</th>\n",
       "      <th>Shape_Area</th>\n",
       "      <th>geometry</th>\n",
       "    </tr>\n",
       "  </thead>\n",
       "  <tbody>\n",
       "    <tr>\n",
       "      <th>0</th>\n",
       "      <td>6.083002e+09</td>\n",
       "      <td>93454</td>\n",
       "      <td>Santa Barbara</td>\n",
       "      <td>Santa Maria</td>\n",
       "      <td>4495</td>\n",
       "      <td>36.019653</td>\n",
       "      <td>69.162885</td>\n",
       "      <td>0.034190</td>\n",
       "      <td>10.566273</td>\n",
       "      <td>7.567724</td>\n",
       "      <td>...</td>\n",
       "      <td>20.8899</td>\n",
       "      <td>0.4004</td>\n",
       "      <td>0.2670</td>\n",
       "      <td>8.2091</td>\n",
       "      <td>0.0</td>\n",
       "      <td>1.3126</td>\n",
       "      <td>6999.357689</td>\n",
       "      <td>6999.357689</td>\n",
       "      <td>2.847611e+06</td>\n",
       "      <td>POLYGON ((-39795.070 -341919.191, -38126.384 -...</td>\n",
       "    </tr>\n",
       "    <tr>\n",
       "      <th>1</th>\n",
       "      <td>6.083002e+09</td>\n",
       "      <td>93455</td>\n",
       "      <td>Santa Barbara</td>\n",
       "      <td>Santa Maria</td>\n",
       "      <td>13173</td>\n",
       "      <td>37.030667</td>\n",
       "      <td>70.637922</td>\n",
       "      <td>0.035217</td>\n",
       "      <td>11.561917</td>\n",
       "      <td>7.624775</td>\n",
       "      <td>...</td>\n",
       "      <td>13.2240</td>\n",
       "      <td>2.5051</td>\n",
       "      <td>0.0000</td>\n",
       "      <td>4.6990</td>\n",
       "      <td>0.0</td>\n",
       "      <td>0.9489</td>\n",
       "      <td>19100.578232</td>\n",
       "      <td>19100.578232</td>\n",
       "      <td>1.635292e+07</td>\n",
       "      <td>POLYGON ((-39795.070 -341919.191, -39803.632 -...</td>\n",
       "    </tr>\n",
       "    <tr>\n",
       "      <th>2</th>\n",
       "      <td>6.083002e+09</td>\n",
       "      <td>93454</td>\n",
       "      <td>Santa Barbara</td>\n",
       "      <td>Santa Maria</td>\n",
       "      <td>2398</td>\n",
       "      <td>31.213140</td>\n",
       "      <td>61.069087</td>\n",
       "      <td>0.034190</td>\n",
       "      <td>10.566273</td>\n",
       "      <td>7.548835</td>\n",
       "      <td>...</td>\n",
       "      <td>30.6088</td>\n",
       "      <td>0.9591</td>\n",
       "      <td>0.0000</td>\n",
       "      <td>0.5421</td>\n",
       "      <td>0.0</td>\n",
       "      <td>2.1685</td>\n",
       "      <td>4970.985897</td>\n",
       "      <td>4970.985897</td>\n",
       "      <td>1.352329e+06</td>\n",
       "      <td>POLYGON ((-38115.747 -341130.248, -38126.384 -...</td>\n",
       "    </tr>\n",
       "    <tr>\n",
       "      <th>3</th>\n",
       "      <td>6.083002e+09</td>\n",
       "      <td>93455</td>\n",
       "      <td>Santa Barbara</td>\n",
       "      <td>Orcutt</td>\n",
       "      <td>4496</td>\n",
       "      <td>6.639331</td>\n",
       "      <td>5.988401</td>\n",
       "      <td>0.036244</td>\n",
       "      <td>13.615432</td>\n",
       "      <td>7.660570</td>\n",
       "      <td>...</td>\n",
       "      <td>69.1948</td>\n",
       "      <td>0.9342</td>\n",
       "      <td>0.7117</td>\n",
       "      <td>3.6699</td>\n",
       "      <td>0.0</td>\n",
       "      <td>2.5356</td>\n",
       "      <td>6558.956012</td>\n",
       "      <td>6558.956012</td>\n",
       "      <td>2.417717e+06</td>\n",
       "      <td>POLYGON ((-37341.662 -348530.437, -37252.307 -...</td>\n",
       "    </tr>\n",
       "    <tr>\n",
       "      <th>4</th>\n",
       "      <td>6.083002e+09</td>\n",
       "      <td>93455</td>\n",
       "      <td>Santa Barbara</td>\n",
       "      <td>Orcutt</td>\n",
       "      <td>4008</td>\n",
       "      <td>14.022852</td>\n",
       "      <td>23.121533</td>\n",
       "      <td>0.036244</td>\n",
       "      <td>13.615432</td>\n",
       "      <td>7.663210</td>\n",
       "      <td>...</td>\n",
       "      <td>59.7804</td>\n",
       "      <td>0.6986</td>\n",
       "      <td>1.4721</td>\n",
       "      <td>3.2685</td>\n",
       "      <td>0.0</td>\n",
       "      <td>1.3723</td>\n",
       "      <td>6570.368730</td>\n",
       "      <td>6570.368730</td>\n",
       "      <td>2.608422e+06</td>\n",
       "      <td>POLYGON ((-39465.107 -348499.262, -38244.305 -...</td>\n",
       "    </tr>\n",
       "  </tbody>\n",
       "</table>\n",
       "<p>5 rows × 69 columns</p>\n",
       "</div>"
      ],
      "text/plain": [
       "          Tract    ZIP         County    ApproxLoc  TotPop19    CIscore  \\\n",
       "0  6.083002e+09  93454  Santa Barbara  Santa Maria      4495  36.019653   \n",
       "1  6.083002e+09  93455  Santa Barbara  Santa Maria     13173  37.030667   \n",
       "2  6.083002e+09  93454  Santa Barbara  Santa Maria      2398  31.213140   \n",
       "3  6.083002e+09  93455  Santa Barbara       Orcutt      4496   6.639331   \n",
       "4  6.083002e+09  93455  Santa Barbara       Orcutt      4008  14.022852   \n",
       "\n",
       "    CIscoreP     Ozone     OzoneP     PM2_5  ...    White  AfricanAm  \\\n",
       "0  69.162885  0.034190  10.566273  7.567724  ...  20.8899     0.4004   \n",
       "1  70.637922  0.035217  11.561917  7.624775  ...  13.2240     2.5051   \n",
       "2  61.069087  0.034190  10.566273  7.548835  ...  30.6088     0.9591   \n",
       "3   5.988401  0.036244  13.615432  7.660570  ...  69.1948     0.9342   \n",
       "4  23.121533  0.036244  13.615432  7.663210  ...  59.7804     0.6986   \n",
       "\n",
       "   Pacific_Is  AsianAm  PacificIsl  OtherMult    Shape_Leng    Shape_Le_1  \\\n",
       "0      0.2670   8.2091         0.0     1.3126   6999.357689   6999.357689   \n",
       "1      0.0000   4.6990         0.0     0.9489  19100.578232  19100.578232   \n",
       "2      0.0000   0.5421         0.0     2.1685   4970.985897   4970.985897   \n",
       "3      0.7117   3.6699         0.0     2.5356   6558.956012   6558.956012   \n",
       "4      1.4721   3.2685         0.0     1.3723   6570.368730   6570.368730   \n",
       "\n",
       "     Shape_Area                                           geometry  \n",
       "0  2.847611e+06  POLYGON ((-39795.070 -341919.191, -38126.384 -...  \n",
       "1  1.635292e+07  POLYGON ((-39795.070 -341919.191, -39803.632 -...  \n",
       "2  1.352329e+06  POLYGON ((-38115.747 -341130.248, -38126.384 -...  \n",
       "3  2.417717e+06  POLYGON ((-37341.662 -348530.437, -37252.307 -...  \n",
       "4  2.608422e+06  POLYGON ((-39465.107 -348499.262, -38244.305 -...  \n",
       "\n",
       "[5 rows x 69 columns]"
      ]
     },
     "execution_count": 6,
     "metadata": {},
     "output_type": "execute_result"
    }
   ],
   "source": [
    "CESA4.head()"
   ]
  },
  {
   "cell_type": "markdown",
   "id": "c2e22b07-dd4e-4d15-aca7-67d459bcc773",
   "metadata": {},
   "source": [
    "Here we are seeing the first five rows of the CalEvironScreen 4.0 data, it shows five different tracts in the county of Santa Barbara and the according information for it. "
   ]
  },
  {
   "cell_type": "markdown",
   "id": "74ec8157-a08e-4067-bc3b-7bf97385af39",
   "metadata": {},
   "source": [
    "Next, with .info we are going to get a summary about all the information in our data."
   ]
  },
  {
   "cell_type": "code",
   "execution_count": 8,
   "id": "90ee45e7-fcf1-4bb8-80f2-e416238faa1c",
   "metadata": {},
   "outputs": [
    {
     "data": {
      "text/plain": [
       "<bound method DataFrame.info of              Tract    ZIP         County     ApproxLoc  TotPop19    CIscore  \\\n",
       "0     6.083002e+09  93454  Santa Barbara   Santa Maria      4495  36.019653   \n",
       "1     6.083002e+09  93455  Santa Barbara   Santa Maria     13173  37.030667   \n",
       "2     6.083002e+09  93454  Santa Barbara   Santa Maria      2398  31.213140   \n",
       "3     6.083002e+09  93455  Santa Barbara        Orcutt      4496   6.639331   \n",
       "4     6.083002e+09  93455  Santa Barbara        Orcutt      4008  14.022852   \n",
       "...            ...    ...            ...           ...       ...        ...   \n",
       "8030  6.037430e+09  91016    Los Angeles      Monrovia      5339  17.124832   \n",
       "8031  6.037431e+09  91007    Los Angeles       Arcadia      4365  13.841990   \n",
       "8032  6.037431e+09  91016    Los Angeles      Monrovia      6758  39.697849   \n",
       "8033  6.037534e+09  90201    Los Angeles          Bell      6986  62.931044   \n",
       "8034  6.037534e+09  90201    Los Angeles  Bell Gardens      2358  63.315048   \n",
       "\n",
       "       CIscoreP     Ozone     OzoneP      PM2_5  ...    White  AfricanAm  \\\n",
       "0     69.162885  0.034190  10.566273   7.567724  ...  20.8899     0.4004   \n",
       "1     70.637922  0.035217  11.561917   7.624775  ...  13.2240     2.5051   \n",
       "2     61.069087  0.034190  10.566273   7.548835  ...  30.6088     0.9591   \n",
       "3      5.988401  0.036244  13.615432   7.660570  ...  69.1948     0.9342   \n",
       "4     23.121533  0.036244  13.615432   7.663210  ...  59.7804     0.6986   \n",
       "...         ...       ...        ...        ...  ...      ...        ...   \n",
       "8030  30.610187  0.062365  88.699440  11.873339  ...  53.3995     1.5733   \n",
       "8031  22.566818  0.059387  79.987554  11.816074  ...  26.3918     3.3677   \n",
       "8032  74.508321  0.061338  84.579963  11.892654  ...  16.1438     8.9967   \n",
       "8033  97.049924  0.046325  46.994400  12.019728  ...   6.9425     0.6728   \n",
       "8034  97.226425  0.047165  50.541381  12.025885  ...   1.3147     1.9084   \n",
       "\n",
       "      Pacific_Is  AsianAm  PacificIsl  OtherMult    Shape_Leng    Shape_Le_1  \\\n",
       "0         0.2670   8.2091      0.0000     1.3126   6999.357689   6999.357689   \n",
       "1         0.0000   4.6990      0.0000     0.9489  19100.578232  19100.578232   \n",
       "2         0.0000   0.5421      0.0000     2.1685   4970.985897   4970.985897   \n",
       "3         0.7117   3.6699      0.0000     2.5356   6558.956012   6558.956012   \n",
       "4         1.4721   3.2685      0.0000     1.3723   6570.368730   6570.368730   \n",
       "...          ...      ...         ...        ...           ...           ...   \n",
       "8030      0.0000   8.2412      0.9178     7.1549   7166.130635   7166.130635   \n",
       "8031      0.0000  55.9221      0.0000     3.3677   3941.781806   3941.781806   \n",
       "8032      0.0000  14.6493      0.8730     1.1098   8020.091253   8020.091253   \n",
       "8033      0.2577   0.0000      0.0000     0.7157   4949.116808   4949.116808   \n",
       "8034      0.0000   5.6828      0.0000     0.0000   4420.126752   4420.126752   \n",
       "\n",
       "        Shape_Area                                           geometry  \n",
       "0     2.847611e+06  POLYGON ((-39795.070 -341919.191, -38126.384 -...  \n",
       "1     1.635292e+07  POLYGON ((-39795.070 -341919.191, -39803.632 -...  \n",
       "2     1.352329e+06  POLYGON ((-38115.747 -341130.248, -38126.384 -...  \n",
       "3     2.417717e+06  POLYGON ((-37341.662 -348530.437, -37252.307 -...  \n",
       "4     2.608422e+06  POLYGON ((-39465.107 -348499.262, -38244.305 -...  \n",
       "...            ...                                                ...  \n",
       "8030  1.938016e+06  POLYGON ((185152.883 -426843.064, 185240.372 -...  \n",
       "8031  4.855630e+05  POLYGON ((179874.001 -429709.190, 179885.911 -...  \n",
       "8032  3.015661e+06  POLYGON ((184530.475 -428031.241, 184535.255 -...  \n",
       "8033  8.118955e+05  POLYGON ((167498.880 -447404.351, 167453.159 -...  \n",
       "8034  5.098718e+05  POLYGON ((169695.249 -447290.043, 169560.378 -...  \n",
       "\n",
       "[8035 rows x 69 columns]>"
      ]
     },
     "execution_count": 8,
     "metadata": {},
     "output_type": "execute_result"
    }
   ],
   "source": [
    "CESA4.info"
   ]
  },
  {
   "cell_type": "markdown",
   "id": "e8302ffc-6870-48a5-aca8-d5d3cb01856e",
   "metadata": {},
   "source": [
    "Per our command, we able to see about zipcode,tract, county, race, shapelength, and other information about our data."
   ]
  },
  {
   "cell_type": "markdown",
   "id": "c233f15b-cb69-4265-966a-d025fb418da2",
   "metadata": {
    "tags": []
   },
   "source": [
    "This tells you how many rows and columns my datframe has."
   ]
  },
  {
   "cell_type": "code",
   "execution_count": 9,
   "id": "b2e9da24-7fe3-4d08-8592-c9ea0462f180",
   "metadata": {},
   "outputs": [
    {
     "data": {
      "text/plain": [
       "(8035, 69)"
      ]
     },
     "execution_count": 9,
     "metadata": {},
     "output_type": "execute_result"
    }
   ],
   "source": [
    "CESA4.shape"
   ]
  },
  {
   "cell_type": "markdown",
   "id": "ddb808ba-1769-4aca-8e88-7a5b390b35b6",
   "metadata": {},
   "source": [
    "In this example, my datafram has 8035 rows, and 69 columns."
   ]
  },
  {
   "cell_type": "markdown",
   "id": "1deb6c2d-24cf-4aae-a508-1d1989069061",
   "metadata": {},
   "source": [
    "I am using .plot help me visualize my data."
   ]
  },
  {
   "cell_type": "code",
   "execution_count": 10,
   "id": "7ec4c396-9253-4384-b2b5-1776723915b8",
   "metadata": {},
   "outputs": [
    {
     "data": {
      "text/plain": [
       "<AxesSubplot:>"
      ]
     },
     "execution_count": 10,
     "metadata": {},
     "output_type": "execute_result"
    },
    {
     "data": {
      "image/png": "[encoded data removed]",
      "text/plain": [
       "<Figure size 432x288 with 1 Axes>"
      ]
     },
     "metadata": {
      "needs_background": "light"
     },
     "output_type": "display_data"
    }
   ],
   "source": [
    "CESA4.plot()"
   ]
  },
  {
   "cell_type": "markdown",
   "id": "25604c21-c1ad-47a3-abad-456fe363ddca",
   "metadata": {},
   "source": [
    "The output shows us a map of California, which is the spatial dimension that my dataframe is within."
   ]
  },
  {
   "cell_type": "markdown",
   "id": "da3a3c5b-ccba-4514-99a1-e489daf426a9",
   "metadata": {},
   "source": [
    "Here I am using .value_counts() to see how many of each zipcodes there are, and get a count for it."
   ]
  },
  {
   "cell_type": "code",
   "execution_count": 11,
   "id": "bab65fdd-0cf9-4eb5-9468-13a0dd2cc8ae",
   "metadata": {},
   "outputs": [
    {
     "data": {
      "text/plain": [
       "90044    26\n",
       "91331    24\n",
       "94558    23\n",
       "90201    22\n",
       "90255    22\n",
       "         ..\n",
       "40        1\n",
       "95346     1\n",
       "95709     1\n",
       "95623     1\n",
       "91608     1\n",
       "Name: ZIP, Length: 1355, dtype: int64"
      ]
     },
     "execution_count": 11,
     "metadata": {},
     "output_type": "execute_result"
    }
   ],
   "source": [
    "CESA4['ZIP'].value_counts()"
   ]
  },
  {
   "cell_type": "markdown",
   "id": "166e7d04-26e7-433c-8ec3-31b93609af83",
   "metadata": {},
   "source": [
    "Based on the output we see that there are 26 zipcodes that are 90044, 24 for 91331 and so fortth."
   ]
  },
  {
   "cell_type": "markdown",
   "id": "0f28f3ef-cf19-4fde-b424-cff6b1d8dc1c",
   "metadata": {},
   "source": [
    "Using .sample(5) I will get a list of 5 random zipcodes from my dataframe."
   ]
  },
  {
   "cell_type": "code",
   "execution_count": 12,
   "id": "599190f3-178a-4f10-86a0-b9ceb7ed65b7",
   "metadata": {},
   "outputs": [
    {
     "data": {
      "text/plain": [
       "5721    91731\n",
       "2114    92025\n",
       "7519    90810\n",
       "6819    91750\n",
       "3663    91730\n",
       "Name: ZIP, dtype: int64"
      ]
     },
     "execution_count": 12,
     "metadata": {},
     "output_type": "execute_result"
    }
   ],
   "source": [
    "CESA4['ZIP'].sample(5)"
   ]
  },
  {
   "cell_type": "markdown",
   "id": "47929494-896c-4907-a74a-3ed40c6e6fe5",
   "metadata": {},
   "source": [
    "The output shows the 5 random zipcodes that I asked for."
   ]
  },
  {
   "cell_type": "markdown",
   "id": "b22583b4-11d9-4eeb-a4fa-b771043746e1",
   "metadata": {},
   "source": [
    "Next, I will filter the data so that it only shows a subset of four coluumns of my choosing, which are listed in the following operation. "
   ]
  },
  {
   "cell_type": "code",
   "execution_count": 13,
   "id": "5196eb77-5a27-4fb0-8d38-ef3647ab408b",
   "metadata": {},
   "outputs": [
    {
     "data": {
      "text/html": [
       "<div>\n",
       "<style scoped>\n",
       "    .dataframe tbody tr th:only-of-type {\n",
       "        vertical-align: middle;\n",
       "    }\n",
       "\n",
       "    .dataframe tbody tr th {\n",
       "        vertical-align: top;\n",
       "    }\n",
       "\n",
       "    .dataframe thead th {\n",
       "        text-align: right;\n",
       "    }\n",
       "</style>\n",
       "<table border=\"1\" class=\"dataframe\">\n",
       "  <thead>\n",
       "    <tr style=\"text-align: right;\">\n",
       "      <th></th>\n",
       "      <th>Tract</th>\n",
       "      <th>ZIP</th>\n",
       "      <th>County</th>\n",
       "      <th>Ozone</th>\n",
       "    </tr>\n",
       "  </thead>\n",
       "  <tbody>\n",
       "    <tr>\n",
       "      <th>0</th>\n",
       "      <td>6.083002e+09</td>\n",
       "      <td>93454</td>\n",
       "      <td>Santa Barbara</td>\n",
       "      <td>0.034190</td>\n",
       "    </tr>\n",
       "    <tr>\n",
       "      <th>1</th>\n",
       "      <td>6.083002e+09</td>\n",
       "      <td>93455</td>\n",
       "      <td>Santa Barbara</td>\n",
       "      <td>0.035217</td>\n",
       "    </tr>\n",
       "    <tr>\n",
       "      <th>2</th>\n",
       "      <td>6.083002e+09</td>\n",
       "      <td>93454</td>\n",
       "      <td>Santa Barbara</td>\n",
       "      <td>0.034190</td>\n",
       "    </tr>\n",
       "    <tr>\n",
       "      <th>3</th>\n",
       "      <td>6.083002e+09</td>\n",
       "      <td>93455</td>\n",
       "      <td>Santa Barbara</td>\n",
       "      <td>0.036244</td>\n",
       "    </tr>\n",
       "    <tr>\n",
       "      <th>4</th>\n",
       "      <td>6.083002e+09</td>\n",
       "      <td>93455</td>\n",
       "      <td>Santa Barbara</td>\n",
       "      <td>0.036244</td>\n",
       "    </tr>\n",
       "    <tr>\n",
       "      <th>...</th>\n",
       "      <td>...</td>\n",
       "      <td>...</td>\n",
       "      <td>...</td>\n",
       "      <td>...</td>\n",
       "    </tr>\n",
       "    <tr>\n",
       "      <th>8030</th>\n",
       "      <td>6.037430e+09</td>\n",
       "      <td>91016</td>\n",
       "      <td>Los Angeles</td>\n",
       "      <td>0.062365</td>\n",
       "    </tr>\n",
       "    <tr>\n",
       "      <th>8031</th>\n",
       "      <td>6.037431e+09</td>\n",
       "      <td>91007</td>\n",
       "      <td>Los Angeles</td>\n",
       "      <td>0.059387</td>\n",
       "    </tr>\n",
       "    <tr>\n",
       "      <th>8032</th>\n",
       "      <td>6.037431e+09</td>\n",
       "      <td>91016</td>\n",
       "      <td>Los Angeles</td>\n",
       "      <td>0.061338</td>\n",
       "    </tr>\n",
       "    <tr>\n",
       "      <th>8033</th>\n",
       "      <td>6.037534e+09</td>\n",
       "      <td>90201</td>\n",
       "      <td>Los Angeles</td>\n",
       "      <td>0.046325</td>\n",
       "    </tr>\n",
       "    <tr>\n",
       "      <th>8034</th>\n",
       "      <td>6.037534e+09</td>\n",
       "      <td>90201</td>\n",
       "      <td>Los Angeles</td>\n",
       "      <td>0.047165</td>\n",
       "    </tr>\n",
       "  </tbody>\n",
       "</table>\n",
       "<p>8035 rows × 4 columns</p>\n",
       "</div>"
      ],
      "text/plain": [
       "             Tract    ZIP         County     Ozone\n",
       "0     6.083002e+09  93454  Santa Barbara  0.034190\n",
       "1     6.083002e+09  93455  Santa Barbara  0.035217\n",
       "2     6.083002e+09  93454  Santa Barbara  0.034190\n",
       "3     6.083002e+09  93455  Santa Barbara  0.036244\n",
       "4     6.083002e+09  93455  Santa Barbara  0.036244\n",
       "...            ...    ...            ...       ...\n",
       "8030  6.037430e+09  91016    Los Angeles  0.062365\n",
       "8031  6.037431e+09  91007    Los Angeles  0.059387\n",
       "8032  6.037431e+09  91016    Los Angeles  0.061338\n",
       "8033  6.037534e+09  90201    Los Angeles  0.046325\n",
       "8034  6.037534e+09  90201    Los Angeles  0.047165\n",
       "\n",
       "[8035 rows x 4 columns]"
      ]
     },
     "execution_count": 13,
     "metadata": {},
     "output_type": "execute_result"
    }
   ],
   "source": [
    "CESA4[['Tract','ZIP','County','Ozone']]"
   ]
  },
  {
   "cell_type": "markdown",
   "id": "67bb3996-6b66-43a3-bde5-6e30908f7fb9",
   "metadata": {},
   "source": [
    "The output shows the columns I requested in my operation which are Tract, Zip, County, and Ozone. "
   ]
  },
  {
   "cell_type": "code",
   "execution_count": null,
   "id": "f5c69410-f3db-4f78-af41-da1ba2ef7294",
   "metadata": {},
   "outputs": [],
   "source": []
  }
 ],
 "metadata": {
  "kernelspec": {
   "display_name": "Python 3 (ipykernel)",
   "language": "python",
   "name": "python3"
  },
  "language_info": {
   "codemirror_mode": {
    "name": "ipython",
    "version": 3
   },
   "file_extension": ".py",
   "mimetype": "text/x-python",
   "name": "python",
   "nbconvert_exporter": "python",
   "pygments_lexer": "ipython3",
   "version": "3.9.6"
  }
 },
 "nbformat": 4,
 "nbformat_minor": 5
}
